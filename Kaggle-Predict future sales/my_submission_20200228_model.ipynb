{
 "cells": [
  {
   "cell_type": "code",
   "execution_count": 1,
   "metadata": {},
   "outputs": [],
   "source": [
    "import os\n",
    "import gc\n",
    "import pickle\n",
    "import time\n",
    "import pandas as pd\n",
    "import numpy as np\n",
    "from xgboost import XGBRegressor\n",
    "import matplotlib.pylab as plt\n",
    "from matplotlib.pylab import rcParams\n",
    "rcParams['figure.figsize'] = 12, 4"
   ]
  },
  {
   "cell_type": "code",
   "execution_count": 2,
   "metadata": {},
   "outputs": [
    {
     "name": "stdout",
     "output_type": "stream",
     "text": [
      "34\n"
     ]
    },
    {
     "data": {
      "text/plain": [
       "Index(['date_block_num', 'shop_id', 'item_id', 'item_cnt_month', 'shop_city',\n",
       "       'shop_category', 'item_category_id', 'name_2', 'name_3', 'type_code',\n",
       "       'subtype_code', 'item_cnt_month_lag_1', 'item_cnt_month_lag_2',\n",
       "       'item_cnt_month_lag_3', 'date_avg_item_cnt_lag_1',\n",
       "       'date_item_avg_item_cnt_lag_1', 'date_item_avg_item_cnt_lag_2',\n",
       "       'date_item_avg_item_cnt_lag_3', 'date_shop_avg_item_cnt_lag_1',\n",
       "       'date_shop_avg_item_cnt_lag_2', 'date_shop_avg_item_cnt_lag_3',\n",
       "       'date_cat_avg_item_cnt_lag_1', 'date_shop_cat_avg_item_cnt_lag_1',\n",
       "       'date_shop_item_avg_item_cnt_lag_1_x',\n",
       "       'date_shop_subtype_avg_item_cnt_lag_1', 'date_city_avg_item_cnt_lag_1',\n",
       "       'date_item_city_avg_item_cnt_lag_1',\n",
       "       'date_shop_item_avg_item_cnt_lag_1_y', 'delta_price_lag',\n",
       "       'delta_revenue_lag_1', 'month', 'days', 'item_shop_first_sale',\n",
       "       'item_first_sale'],\n",
       "      dtype='object')"
      ]
     },
     "execution_count": 2,
     "metadata": {},
     "output_type": "execute_result"
    }
   ],
   "source": [
    "data = pd.read_pickle('data-20200228.pkl')\n",
    "test  = pd.read_csv('test.csv').set_index('ID')\n",
    "\n",
    "print(len(data.columns))\n",
    "data.columns"
   ]
  },
  {
   "cell_type": "code",
   "execution_count": 3,
   "metadata": {},
   "outputs": [
    {
     "data": {
      "text/plain": [
       "34"
      ]
     },
     "execution_count": 3,
     "metadata": {},
     "output_type": "execute_result"
    }
   ],
   "source": [
    "\n",
    "\n",
    "len(data.columns)"
   ]
  },
  {
   "cell_type": "code",
   "execution_count": null,
   "metadata": {},
   "outputs": [],
   "source": []
  },
  {
   "cell_type": "code",
   "execution_count": 4,
   "metadata": {},
   "outputs": [],
   "source": [
    "X_train = data[data.date_block_num < 33].drop(['item_cnt_month'], axis=1)\n",
    "Y_train = data[data.date_block_num < 33]['item_cnt_month']\n",
    "X_valid = data[data.date_block_num == 33].drop(['item_cnt_month'], axis=1)\n",
    "Y_valid = data[data.date_block_num == 33]['item_cnt_month']\n",
    "X_test = data[data.date_block_num == 34].drop(['item_cnt_month'], axis=1)"
   ]
  },
  {
   "cell_type": "code",
   "execution_count": 5,
   "metadata": {},
   "outputs": [],
   "source": [
    "del data\n",
    "gc.collect();"
   ]
  },
  {
   "cell_type": "code",
   "execution_count": 13,
   "metadata": {
    "scrolled": true
   },
   "outputs": [
    {
     "name": "stdout",
     "output_type": "stream",
     "text": [
      "[00:29:40] WARNING: /private/var/folders/0j/lwfjrrsn56nczl89zb97gdyr0000gn/T/pip-install-m4lbv2lz/xgboost/xgboost/src/gbm/gbtree.cc:138: Tree method is automatically selected to be 'approx' for faster speed. To use old behavior (exact greedy algorithm on single machine), set tree_method to 'exact'.\n",
      "[0]\tvalidation_0-rmse:1.12843\tvalidation_1-rmse:1.11629\n",
      "Multiple eval metrics have been passed: 'validation_1-rmse' will be used for early stopping.\n",
      "\n",
      "Will train until validation_1-rmse hasn't improved in 20 rounds.\n",
      "[1]\tvalidation_0-rmse:1.08520\tvalidation_1-rmse:1.07765\n",
      "[2]\tvalidation_0-rmse:1.05159\tvalidation_1-rmse:1.04653\n",
      "[3]\tvalidation_0-rmse:1.01767\tvalidation_1-rmse:1.02028\n",
      "[4]\tvalidation_0-rmse:0.98904\tvalidation_1-rmse:0.99960\n",
      "[5]\tvalidation_0-rmse:0.96626\tvalidation_1-rmse:0.98061\n",
      "[6]\tvalidation_0-rmse:0.94691\tvalidation_1-rmse:0.96598\n",
      "[7]\tvalidation_0-rmse:0.92872\tvalidation_1-rmse:0.95441\n",
      "[8]\tvalidation_0-rmse:0.91393\tvalidation_1-rmse:0.94590\n",
      "[9]\tvalidation_0-rmse:0.90082\tvalidation_1-rmse:0.93776\n",
      "[10]\tvalidation_0-rmse:0.88947\tvalidation_1-rmse:0.93133\n",
      "[11]\tvalidation_0-rmse:0.87901\tvalidation_1-rmse:0.92500\n",
      "[12]\tvalidation_0-rmse:0.87039\tvalidation_1-rmse:0.92176\n",
      "[13]\tvalidation_0-rmse:0.86292\tvalidation_1-rmse:0.91792\n",
      "[14]\tvalidation_0-rmse:0.85670\tvalidation_1-rmse:0.91476\n",
      "[15]\tvalidation_0-rmse:0.85025\tvalidation_1-rmse:0.91253\n",
      "[16]\tvalidation_0-rmse:0.84548\tvalidation_1-rmse:0.91144\n",
      "[17]\tvalidation_0-rmse:0.84044\tvalidation_1-rmse:0.90853\n",
      "[18]\tvalidation_0-rmse:0.83693\tvalidation_1-rmse:0.90687\n",
      "[19]\tvalidation_0-rmse:0.83361\tvalidation_1-rmse:0.90598\n",
      "[20]\tvalidation_0-rmse:0.83000\tvalidation_1-rmse:0.90492\n",
      "[21]\tvalidation_0-rmse:0.82664\tvalidation_1-rmse:0.90412\n",
      "[22]\tvalidation_0-rmse:0.82341\tvalidation_1-rmse:0.90444\n",
      "[23]\tvalidation_0-rmse:0.82104\tvalidation_1-rmse:0.90398\n",
      "[24]\tvalidation_0-rmse:0.81815\tvalidation_1-rmse:0.90339\n",
      "[25]\tvalidation_0-rmse:0.81563\tvalidation_1-rmse:0.90279\n",
      "[26]\tvalidation_0-rmse:0.81289\tvalidation_1-rmse:0.90183\n",
      "[27]\tvalidation_0-rmse:0.80998\tvalidation_1-rmse:0.90303\n",
      "[28]\tvalidation_0-rmse:0.80755\tvalidation_1-rmse:0.90329\n",
      "[29]\tvalidation_0-rmse:0.80530\tvalidation_1-rmse:0.90294\n",
      "[30]\tvalidation_0-rmse:0.80373\tvalidation_1-rmse:0.90316\n",
      "[31]\tvalidation_0-rmse:0.80218\tvalidation_1-rmse:0.90352\n",
      "[32]\tvalidation_0-rmse:0.80020\tvalidation_1-rmse:0.90308\n",
      "[33]\tvalidation_0-rmse:0.79871\tvalidation_1-rmse:0.90295\n",
      "[34]\tvalidation_0-rmse:0.79743\tvalidation_1-rmse:0.90276\n",
      "[35]\tvalidation_0-rmse:0.79624\tvalidation_1-rmse:0.90399\n",
      "[36]\tvalidation_0-rmse:0.79498\tvalidation_1-rmse:0.90445\n",
      "[37]\tvalidation_0-rmse:0.79321\tvalidation_1-rmse:0.90614\n",
      "[38]\tvalidation_0-rmse:0.79203\tvalidation_1-rmse:0.90687\n",
      "[39]\tvalidation_0-rmse:0.79092\tvalidation_1-rmse:0.90676\n",
      "[40]\tvalidation_0-rmse:0.78986\tvalidation_1-rmse:0.90640\n",
      "[41]\tvalidation_0-rmse:0.78878\tvalidation_1-rmse:0.90671\n",
      "[42]\tvalidation_0-rmse:0.78771\tvalidation_1-rmse:0.90704\n",
      "[43]\tvalidation_0-rmse:0.78608\tvalidation_1-rmse:0.90710\n",
      "[44]\tvalidation_0-rmse:0.78512\tvalidation_1-rmse:0.90781\n",
      "[45]\tvalidation_0-rmse:0.78433\tvalidation_1-rmse:0.90812\n",
      "[46]\tvalidation_0-rmse:0.78347\tvalidation_1-rmse:0.90823\n",
      "Stopping. Best iteration:\n",
      "[26]\tvalidation_0-rmse:0.81289\tvalidation_1-rmse:0.90183\n",
      "\n"
     ]
    },
    {
     "data": {
      "text/plain": [
       "6547.827740907669"
      ]
     },
     "execution_count": 13,
     "metadata": {},
     "output_type": "execute_result"
    }
   ],
   "source": [
    "ts = time.time()\n",
    "\n",
    "model = XGBRegressor(\n",
    "    max_depth=10,\n",
    "    n_estimators=1000,\n",
    "    min_child_weight=0.5, \n",
    "    colsample_bytree=0.8, \n",
    "    subsample=0.8, \n",
    "    eta=0.1,\n",
    "    #tree_method='gpu_hist',\n",
    "    seed=42)\n",
    "\n",
    "model.fit(\n",
    "    X_train, \n",
    "    Y_train, \n",
    "    eval_metric=\"rmse\", \n",
    "    eval_set=[(X_train, Y_train), (X_valid, Y_valid)], \n",
    "    verbose=True, \n",
    "    early_stopping_rounds = 20\n",
    ")\n",
    "\n",
    "time.time() - ts"
   ]
  },
  {
   "cell_type": "code",
   "execution_count": null,
   "metadata": {},
   "outputs": [],
   "source": []
  },
  {
   "cell_type": "code",
   "execution_count": 14,
   "metadata": {},
   "outputs": [],
   "source": [
    "Y_pred = model.predict(X_valid).clip(0, 20)\n",
    "Y_test = model.predict(X_test).clip(0, 20)\n",
    "\n",
    "submission = pd.DataFrame({\n",
    "    \"ID\": test.index, \n",
    "    \"item_cnt_month\": Y_test\n",
    "})\n",
    "submission.to_csv('xgb_submission_20200228.csv', index=False)\n",
    "\n",
    "# save predictions for an ensemble\n",
    "pickle.dump(Y_pred, open('xgb_train.pickle', 'wb'))\n",
    "pickle.dump(Y_test, open('xgb_test.pickle', 'wb'))"
   ]
  },
  {
   "cell_type": "code",
   "execution_count": null,
   "metadata": {},
   "outputs": [],
   "source": []
  },
  {
   "cell_type": "code",
   "execution_count": 11,
   "metadata": {},
   "outputs": [
    {
     "data": {
      "text/plain": [
       "'1.0.1'"
      ]
     },
     "execution_count": 11,
     "metadata": {},
     "output_type": "execute_result"
    }
   ],
   "source": [
    "import xgboost\n",
    "xgboost.__version__"
   ]
  },
  {
   "cell_type": "code",
   "execution_count": null,
   "metadata": {},
   "outputs": [],
   "source": []
  },
  {
   "cell_type": "code",
   "execution_count": null,
   "metadata": {},
   "outputs": [],
   "source": []
  },
  {
   "cell_type": "code",
   "execution_count": null,
   "metadata": {},
   "outputs": [],
   "source": []
  },
  {
   "cell_type": "code",
   "execution_count": null,
   "metadata": {},
   "outputs": [],
   "source": []
  },
  {
   "cell_type": "code",
   "execution_count": null,
   "metadata": {},
   "outputs": [],
   "source": []
  },
  {
   "cell_type": "code",
   "execution_count": null,
   "metadata": {},
   "outputs": [],
   "source": []
  },
  {
   "cell_type": "code",
   "execution_count": null,
   "metadata": {},
   "outputs": [],
   "source": []
  },
  {
   "cell_type": "code",
   "execution_count": null,
   "metadata": {},
   "outputs": [],
   "source": []
  }
 ],
 "metadata": {
  "kernelspec": {
   "display_name": "Python 3",
   "language": "python",
   "name": "python3"
  },
  "language_info": {
   "codemirror_mode": {
    "name": "ipython",
    "version": 3
   },
   "file_extension": ".py",
   "mimetype": "text/x-python",
   "name": "python",
   "nbconvert_exporter": "python",
   "pygments_lexer": "ipython3",
   "version": "3.6.5"
  }
 },
 "nbformat": 4,
 "nbformat_minor": 2
}
